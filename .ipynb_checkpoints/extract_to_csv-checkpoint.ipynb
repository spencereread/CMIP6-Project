{
 "cells": [
  {
   "cell_type": "markdown",
   "id": "acb4d49b-00f4-4b1c-b448-5466b1d28ddd",
   "metadata": {},
   "source": [
    "This Jupyter Notebook loads CMIP6 NetCDF files, extracts climate variables for selected locations, converts the data into pandas DataFrames, and exports the results as CSV files for further analysis."
   ]
  },
  {
   "cell_type": "code",
   "execution_count": null,
   "id": "d5e0cc2c-6d65-4e58-9219-d7b070e6df31",
   "metadata": {},
   "outputs": [],
   "source": [
    "from pathlib import Path\n",
    "import xarray as xr\n",
    "import logging\n",
    "\n",
    "# Configure logging\n",
    "logging.basicConfig(level=logging.INFO, format=\"%(asctime)s - %(levelname)s - %(message)s\")\n",
    "\n",
    "# Define dataset directory\n",
    "DATA_DIR = Path(\"datasets\")\n",
    "\n",
    "# Define locations for each model\n",
    "LOCATIONS = {\n",
    "    \"UKESM1-0-LL\": {\"city\": \"London\", \"lat\": 51.5, \"lon\": -0.1},\n",
    "    \"MIROC6\": {\"city\": \"Tokyo\", \"lat\": 35.7, \"lon\": 139.7},\n",
    "    \"CESM2-WACCM\": {\"city\": \"Los Angeles\", \"lat\": 34.05, \"lon\": -118.25},\n",
    "}\n",
    "\n",
    "# Define the experiments (ssp245 and ssp585) and variables (tas, pr)\n",
    "EXPERIMENTS = [\"ssp245\", \"ssp585\"]\n",
    "VARIABLES = [\"tas\", \"pr\"]\n",
    "\n",
    "# Function to extract data for a given model and variable\n",
    "def extract_location_data(model, experiment, variable):\n",
    "    \"\"\"Extracts time-series data for a specific model and city location.\"\"\"\n",
    "    file_path = DATA_DIR / f\"cmip6_{variable}_{experiment}_{model}.nc\"\n",
    "    \n",
    "    if not file_path.exists():\n",
    "        logging.warning(f\"File not found: {file_path}\")\n",
    "        return None\n",
    "\n",
    "    logging.info(f\"Processing {file_path} for {LOCATIONS[model]['city']}...\")\n",
    "    \n",
    "    # Load dataset\n",
    "    ds = xr.open_dataset(file_path)\n",
    "\n",
    "    # Extract location details\n",
    "    city = LOCATIONS[model][\"city\"]\n",
    "    target_lat = LOCATIONS[model][\"lat\"]\n",
    "    target_lon = LOCATIONS[model][\"lon\"]\n",
    "\n",
    "    # Find the nearest grid point\n",
    "    ds_nearest = ds.sel(lat=target_lat, lon=target_lon, method=\"nearest\")\n",
    "\n",
    "    # Convert to DataFrame for easy handling\n",
    "    df = ds_nearest.to_dataframe().reset_index()\n",
    "\n",
    "    # Save extracted data\n",
    "    output_file = DATA_DIR / f\"{model}_{variable}_{experiment}_{city}.csv\"\n",
    "    df.to_csv(output_file, index=False)\n",
    "    logging.info(f\"Saved extracted data to {output_file}\")\n",
    "\n",
    "    return df\n",
    "\n",
    "# Loop through models, experiments, and variables\n",
    "for model in LOCATIONS.keys():\n",
    "    for experiment in EXPERIMENTS:\n",
    "        for variable in VARIABLES:\n",
    "            extract_location_data(model, experiment, variable)\n",
    "\n",
    "logging.info(\"Extraction complete.\")"
   ]
  }
 ],
 "metadata": {
  "kernelspec": {
   "display_name": "Python 3 (ipykernel)",
   "language": "python",
   "name": "python3"
  },
  "language_info": {
   "codemirror_mode": {
    "name": "ipython",
    "version": 3
   },
   "file_extension": ".py",
   "mimetype": "text/x-python",
   "name": "python",
   "nbconvert_exporter": "python",
   "pygments_lexer": "ipython3",
   "version": "3.12.5"
  }
 },
 "nbformat": 4,
 "nbformat_minor": 5
}
